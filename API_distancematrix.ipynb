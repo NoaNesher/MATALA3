{
  "nbformat": 4,
  "nbformat_minor": 0,
  "metadata": {
    "colab": {
      "provenance": [],
      "authorship_tag": "ABX9TyPKwEQgwmv91GUOXVX4yzrz",
      "include_colab_link": true
    },
    "kernelspec": {
      "name": "python3",
      "display_name": "Python 3"
    },
    "language_info": {
      "name": "python"
    }
  },
  "cells": [
    {
      "cell_type": "markdown",
      "metadata": {
        "id": "view-in-github",
        "colab_type": "text"
      },
      "source": [
        "<a href=\"https://colab.research.google.com/github/NoaNesher/MATALA3/blob/main/MATALA_3_fetching_data_by_api.ipynb\" target=\"_parent\"><img src=\"https://colab.research.google.com/assets/colab-badge.svg\" alt=\"Open In Colab\"/></a>"
      ]
    },
    {
      "cell_type": "markdown",
      "source": [
        "#**MATALA 3 - fetching data by api**\n",
        "##**Noa Nesher**\n",
        "###**ID: 318879533**"
      ],
      "metadata": {
        "id": "ukOf0T7ck4q3"
      }
    },
    {
      "cell_type": "code",
      "execution_count": 12,
      "metadata": {
        "colab": {
          "base_uri": "https://localhost:8080/"
        },
        "id": "xY-XaLLFfhui",
        "outputId": "644933d1-87e7-4b07-ad99-51a8ddef1b7f"
      },
      "outputs": [
        {
          "output_type": "stream",
          "name": "stdout",
          "text": [
            "Drive already mounted at /content/drive; to attempt to forcibly remount, call drive.mount(\"/content/drive\", force_remount=True).\n"
          ]
        }
      ],
      "source": [
        "import pandas as pd\n",
        "import numpy as np\n",
        "from google.colab import drive\n",
        "drive.mount('/content/drive')\n",
        "import requests\n",
        "import json"
      ]
    },
    {
      "cell_type": "code",
      "source": [
        "path = '/content/drive/MyDrive/data/'\n",
        "fileNAME ='dests.txt'\n",
        "with open(path+ fileNAME, 'r') as f:\n",
        "    destinations = f.read().splitlines()"
      ],
      "metadata": {
        "id": "H2p4kt_ufmx9"
      },
      "execution_count": 32,
      "outputs": []
    },
    {
      "cell_type": "code",
      "source": [
        "df = pd.DataFrame(columns=['Target', 'Distance_km', 'Duration(hour+minutes)', 'Longitude', 'Latitude'])"
      ],
      "metadata": {
        "id": "SqokJnrhgL9k"
      },
      "execution_count": 33,
      "outputs": []
    },
    {
      "cell_type": "code",
      "source": [
        "for dest in destinations:\n",
        "    response = requests.get(f'https://maps.googleapis.com/maps/api/distancematrix/json?units=metric&origins=Tel+Aviv&destinations={dest}&key=YOUR_API_KEY')\n",
        "    data = response.json()\n",
        "\n",
        "    distance_km = data['rows'][0]['elements'][0]['distance']['value'] / 1000\n",
        "    duration_seconds = data['rows'][0]['elements'][0]['duration']['value']\n",
        "    duration_hours = duration_seconds // 3600\n",
        "    duration_minutes = (duration_seconds % 3600) // 60\n",
        "    duration = f'{duration_hours}h {duration_minutes}m'\n",
        "\n",
        "    response = requests.get(f'https://maps.googleapis.com/maps/api/geocode/json?address={dest}&key=YOUR_API_KEY')\n",
        "    data = response.json()\n",
        "\n",
        "    longitude = data['results'][0]['geometry']['location']['lng']\n",
        "    latitude = data['results'][0]['geometry']['location']['lat']\n",
        "\n",
        "    df = df.append({'Target': dest, 'Distance_km': distance_km, 'Duration(hour+minutes)': duration , 'Longitude': longitude, 'Latitude': latitude}, ignore_index=True)"
      ],
      "metadata": {
        "colab": {
          "base_uri": "https://localhost:8080/"
        },
        "id": "Ekva44t14Aue",
        "outputId": "549ac3af-9359-4ed0-936d-a5736d523cbc"
      },
      "execution_count": 34,
      "outputs": [
        {
          "output_type": "stream",
          "name": "stderr",
          "text": [
            "<ipython-input-34-29c01f5b264b>:17: FutureWarning: The frame.append method is deprecated and will be removed from pandas in a future version. Use pandas.concat instead.\n",
            "  df = df.append({'Target': dest, 'Distance_km': distance_km, 'Duration(hour+minutes)': duration , 'Longitude': longitude, 'Latitude': latitude}, ignore_index=True)\n",
            "<ipython-input-34-29c01f5b264b>:17: FutureWarning: The frame.append method is deprecated and will be removed from pandas in a future version. Use pandas.concat instead.\n",
            "  df = df.append({'Target': dest, 'Distance_km': distance_km, 'Duration(hour+minutes)': duration , 'Longitude': longitude, 'Latitude': latitude}, ignore_index=True)\n",
            "<ipython-input-34-29c01f5b264b>:17: FutureWarning: The frame.append method is deprecated and will be removed from pandas in a future version. Use pandas.concat instead.\n",
            "  df = df.append({'Target': dest, 'Distance_km': distance_km, 'Duration(hour+minutes)': duration , 'Longitude': longitude, 'Latitude': latitude}, ignore_index=True)\n",
            "<ipython-input-34-29c01f5b264b>:17: FutureWarning: The frame.append method is deprecated and will be removed from pandas in a future version. Use pandas.concat instead.\n",
            "  df = df.append({'Target': dest, 'Distance_km': distance_km, 'Duration(hour+minutes)': duration , 'Longitude': longitude, 'Latitude': latitude}, ignore_index=True)\n",
            "<ipython-input-34-29c01f5b264b>:17: FutureWarning: The frame.append method is deprecated and will be removed from pandas in a future version. Use pandas.concat instead.\n",
            "  df = df.append({'Target': dest, 'Distance_km': distance_km, 'Duration(hour+minutes)': duration , 'Longitude': longitude, 'Latitude': latitude}, ignore_index=True)\n"
          ]
        }
      ]
    },
    {
      "cell_type": "markdown",
      "source": [
        "**The DataFrame:**"
      ],
      "metadata": {
        "id": "teBdXJPu_k52"
      }
    },
    {
      "cell_type": "code",
      "source": [
        "df"
      ],
      "metadata": {
        "colab": {
          "base_uri": "https://localhost:8080/",
          "height": 206
        },
        "id": "Nq1Ub97P2cCX",
        "outputId": "29b09c59-22e0-4002-f286-ea190ae66ae8"
      },
      "execution_count": 35,
      "outputs": [
        {
          "output_type": "execute_result",
          "data": {
            "text/plain": [
              "      Target  Distance_km Duration(hour+minutes)  Longitude   Latitude\n",
              "0   Istanbul     1815.227                 21h 2m  28.978359  41.008238\n",
              "1  Amsterdam     4532.541                 48h 3m   4.904139  52.367573\n",
              "2   Valletta     3792.883                50h 51m  14.514100  35.899237\n",
              "3      Basel     4092.804                 44h 2m   7.588576  47.559599\n",
              "4       Doha     2164.477                22h 38m  51.531040  25.285447"
            ],
            "text/html": [
              "\n",
              "  <div id=\"df-8f4c72a7-dd08-42c7-879f-b97f82955fa5\">\n",
              "    <div class=\"colab-df-container\">\n",
              "      <div>\n",
              "<style scoped>\n",
              "    .dataframe tbody tr th:only-of-type {\n",
              "        vertical-align: middle;\n",
              "    }\n",
              "\n",
              "    .dataframe tbody tr th {\n",
              "        vertical-align: top;\n",
              "    }\n",
              "\n",
              "    .dataframe thead th {\n",
              "        text-align: right;\n",
              "    }\n",
              "</style>\n",
              "<table border=\"1\" class=\"dataframe\">\n",
              "  <thead>\n",
              "    <tr style=\"text-align: right;\">\n",
              "      <th></th>\n",
              "      <th>Target</th>\n",
              "      <th>Distance_km</th>\n",
              "      <th>Duration(hour+minutes)</th>\n",
              "      <th>Longitude</th>\n",
              "      <th>Latitude</th>\n",
              "    </tr>\n",
              "  </thead>\n",
              "  <tbody>\n",
              "    <tr>\n",
              "      <th>0</th>\n",
              "      <td>Istanbul</td>\n",
              "      <td>1815.227</td>\n",
              "      <td>21h 2m</td>\n",
              "      <td>28.978359</td>\n",
              "      <td>41.008238</td>\n",
              "    </tr>\n",
              "    <tr>\n",
              "      <th>1</th>\n",
              "      <td>Amsterdam</td>\n",
              "      <td>4532.541</td>\n",
              "      <td>48h 3m</td>\n",
              "      <td>4.904139</td>\n",
              "      <td>52.367573</td>\n",
              "    </tr>\n",
              "    <tr>\n",
              "      <th>2</th>\n",
              "      <td>Valletta</td>\n",
              "      <td>3792.883</td>\n",
              "      <td>50h 51m</td>\n",
              "      <td>14.514100</td>\n",
              "      <td>35.899237</td>\n",
              "    </tr>\n",
              "    <tr>\n",
              "      <th>3</th>\n",
              "      <td>Basel</td>\n",
              "      <td>4092.804</td>\n",
              "      <td>44h 2m</td>\n",
              "      <td>7.588576</td>\n",
              "      <td>47.559599</td>\n",
              "    </tr>\n",
              "    <tr>\n",
              "      <th>4</th>\n",
              "      <td>Doha</td>\n",
              "      <td>2164.477</td>\n",
              "      <td>22h 38m</td>\n",
              "      <td>51.531040</td>\n",
              "      <td>25.285447</td>\n",
              "    </tr>\n",
              "  </tbody>\n",
              "</table>\n",
              "</div>\n",
              "      <button class=\"colab-df-convert\" onclick=\"convertToInteractive('df-8f4c72a7-dd08-42c7-879f-b97f82955fa5')\"\n",
              "              title=\"Convert this dataframe to an interactive table.\"\n",
              "              style=\"display:none;\">\n",
              "        \n",
              "  <svg xmlns=\"http://www.w3.org/2000/svg\" height=\"24px\"viewBox=\"0 0 24 24\"\n",
              "       width=\"24px\">\n",
              "    <path d=\"M0 0h24v24H0V0z\" fill=\"none\"/>\n",
              "    <path d=\"M18.56 5.44l.94 2.06.94-2.06 2.06-.94-2.06-.94-.94-2.06-.94 2.06-2.06.94zm-11 1L8.5 8.5l.94-2.06 2.06-.94-2.06-.94L8.5 2.5l-.94 2.06-2.06.94zm10 10l.94 2.06.94-2.06 2.06-.94-2.06-.94-.94-2.06-.94 2.06-2.06.94z\"/><path d=\"M17.41 7.96l-1.37-1.37c-.4-.4-.92-.59-1.43-.59-.52 0-1.04.2-1.43.59L10.3 9.45l-7.72 7.72c-.78.78-.78 2.05 0 2.83L4 21.41c.39.39.9.59 1.41.59.51 0 1.02-.2 1.41-.59l7.78-7.78 2.81-2.81c.8-.78.8-2.07 0-2.86zM5.41 20L4 18.59l7.72-7.72 1.47 1.35L5.41 20z\"/>\n",
              "  </svg>\n",
              "      </button>\n",
              "      \n",
              "  <style>\n",
              "    .colab-df-container {\n",
              "      display:flex;\n",
              "      flex-wrap:wrap;\n",
              "      gap: 12px;\n",
              "    }\n",
              "\n",
              "    .colab-df-convert {\n",
              "      background-color: #E8F0FE;\n",
              "      border: none;\n",
              "      border-radius: 50%;\n",
              "      cursor: pointer;\n",
              "      display: none;\n",
              "      fill: #1967D2;\n",
              "      height: 32px;\n",
              "      padding: 0 0 0 0;\n",
              "      width: 32px;\n",
              "    }\n",
              "\n",
              "    .colab-df-convert:hover {\n",
              "      background-color: #E2EBFA;\n",
              "      box-shadow: 0px 1px 2px rgba(60, 64, 67, 0.3), 0px 1px 3px 1px rgba(60, 64, 67, 0.15);\n",
              "      fill: #174EA6;\n",
              "    }\n",
              "\n",
              "    [theme=dark] .colab-df-convert {\n",
              "      background-color: #3B4455;\n",
              "      fill: #D2E3FC;\n",
              "    }\n",
              "\n",
              "    [theme=dark] .colab-df-convert:hover {\n",
              "      background-color: #434B5C;\n",
              "      box-shadow: 0px 1px 3px 1px rgba(0, 0, 0, 0.15);\n",
              "      filter: drop-shadow(0px 1px 2px rgba(0, 0, 0, 0.3));\n",
              "      fill: #FFFFFF;\n",
              "    }\n",
              "  </style>\n",
              "\n",
              "      <script>\n",
              "        const buttonEl =\n",
              "          document.querySelector('#df-8f4c72a7-dd08-42c7-879f-b97f82955fa5 button.colab-df-convert');\n",
              "        buttonEl.style.display =\n",
              "          google.colab.kernel.accessAllowed ? 'block' : 'none';\n",
              "\n",
              "        async function convertToInteractive(key) {\n",
              "          const element = document.querySelector('#df-8f4c72a7-dd08-42c7-879f-b97f82955fa5');\n",
              "          const dataTable =\n",
              "            await google.colab.kernel.invokeFunction('convertToInteractive',\n",
              "                                                     [key], {});\n",
              "          if (!dataTable) return;\n",
              "\n",
              "          const docLinkHtml = 'Like what you see? Visit the ' +\n",
              "            '<a target=\"_blank\" href=https://colab.research.google.com/notebooks/data_table.ipynb>data table notebook</a>'\n",
              "            + ' to learn more about interactive tables.';\n",
              "          element.innerHTML = '';\n",
              "          dataTable['output_type'] = 'display_data';\n",
              "          await google.colab.output.renderOutput(dataTable, element);\n",
              "          const docLink = document.createElement('div');\n",
              "          docLink.innerHTML = docLinkHtml;\n",
              "          element.appendChild(docLink);\n",
              "        }\n",
              "      </script>\n",
              "    </div>\n",
              "  </div>\n",
              "  "
            ]
          },
          "metadata": {},
          "execution_count": 35
        }
      ]
    },
    {
      "cell_type": "markdown",
      "source": [
        "**The 3 cities furthest from Tel Aviv:**"
      ],
      "metadata": {
        "id": "OJ3i3zc7_Qo1"
      }
    },
    {
      "cell_type": "code",
      "source": [
        "df = df.sort_values(['Distance_km']).reset_index(drop=True)\n",
        "print(df['Target'][2:].tolist())\n"
      ],
      "metadata": {
        "colab": {
          "base_uri": "https://localhost:8080/"
        },
        "id": "2eXF0pVI6f3G",
        "outputId": "835d394d-fc72-4e64-e71c-d9a4f752c6a7"
      },
      "execution_count": 36,
      "outputs": [
        {
          "output_type": "stream",
          "name": "stdout",
          "text": [
            "['Valletta', 'Basel', 'Amsterdam']\n"
          ]
        }
      ]
    }
  ]
}
